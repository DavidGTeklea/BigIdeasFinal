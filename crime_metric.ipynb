{
 "cells": [
  {
   "cell_type": "markdown",
   "metadata": {},
   "source": [
    "# Finding the Best Neighborhood Based on Crime Data"
   ]
  },
  {
   "cell_type": "code",
   "execution_count": 24,
   "metadata": {},
   "outputs": [],
   "source": [
    "import pandas as pd\n",
    "import math"
   ]
  },
  {
   "cell_type": "code",
   "execution_count": 16,
   "metadata": {},
   "outputs": [],
   "source": [
    "crime = pd.read_csv(\"crime.csv\")"
   ]
  },
  {
   "cell_type": "code",
   "execution_count": 17,
   "metadata": {},
   "outputs": [
    {
     "name": "stdout",
     "output_type": "stream",
     "text": [
      "PK\n",
      "CCR\n",
      "HIERARCHY\n",
      "INCIDENTTIME\n",
      "INCIDENTLOCATION\n",
      "CLEAREDFLAG\n",
      "INCIDENTNEIGHBORHOOD\n",
      "INCIDENTZONE\n",
      "INCIDENTHIERARCHYDESC\n",
      "OFFENSES\n",
      "INCIDENTTRACT\n",
      "COUNCIL_DISTRICT\n",
      "PUBLIC_WORKS_DIVISION\n",
      "X\n",
      "Y\n"
     ]
    }
   ],
   "source": [
    "for (i) in crime:\n",
    "    print(i)"
   ]
  },
  {
   "cell_type": "markdown",
   "metadata": {},
   "source": [
    "## Finding the neighborhood with the most number of incidents"
   ]
  },
  {
   "cell_type": "code",
   "execution_count": 18,
   "metadata": {},
   "outputs": [],
   "source": [
    "## Create a dict of counters for every neighborhood\n",
    "numIncidents = {}"
   ]
  },
  {
   "cell_type": "code",
   "execution_count": 19,
   "metadata": {},
   "outputs": [],
   "source": [
    "# Iterate through the data table, incrementing counts for neighborhoods and\n",
    "## creating entries for neighborhoods if they do not already exist in the dict.\n",
    "for i in crime.index:\n",
    "    if crime[\"INCIDENTNEIGHBORHOOD\"][i] in numIncidents.keys():\n",
    "        numIncidents[crime[\"INCIDENTNEIGHBORHOOD\"][i]] += 1\n",
    "    else:\n",
    "        numIncidents[crime[\"INCIDENTNEIGHBORHOOD\"][i]] = 1"
   ]
  },
  {
   "cell_type": "code",
   "execution_count": 99,
   "metadata": {},
   "outputs": [],
   "source": [
    "# Hold values for all neighborhoods that have crime numbers lower than the threshold\n",
    "mostIncidents = []\n",
    "mostThreshold = 0\n",
    "\n",
    "leastIncidents = []\n",
    "leastThreshold = math.inf\n",
    "\n",
    "# Function to update the above variables based on given low/high thresholds\n",
    "# The expected ranges of low_threshold and high_threshold are 1-198 (already known lowest/highest values)\n",
    "def findNeighborhoods(lessThan, greaterThan):\n",
    "    global mostIncidents\n",
    "    global mostThreshold\n",
    "    global leastIncidents\n",
    "    global leastThreshold\n",
    "\n",
    "    highers = []\n",
    "    lowers = []\n",
    "    \n",
    "    for n in numIncidents.keys():\n",
    "        if numIncidents[n] >= greaterThan:\n",
    "            highers.append(n)\n",
    "        if numIncidents[n] <= lessThan:\n",
    "            lowers.append(n)\n",
    "            \n",
    "    mostIncidents = highers\n",
    "    mostThreshold = greaterThan\n",
    "    \n",
    "    leastIncidents = lowers\n",
    "    leastThreshold = lessThan\n",
    "\n",
    "# Print neighborhoods found above and list their specific number of incidents.\n",
    "def printExtremes():\n",
    "    print(\"These neighborhoods had more than \" + str(mostThreshold) + \" incidents:\\n\")\n",
    "    for n in sort(mostIncidents):\n",
    "        print(\"   \" + str(n) + \": \" + str(numIncidents[n]))\n",
    "\n",
    "    print(\"\\n\")\n",
    "\n",
    "    print(\"These neighborhoods had less than \" + str(leastThreshold) + \" incidents:\\n\")\n",
    "    for n in sort(leastIncidents):\n",
    "        print(\"   \" + str(n) + \": \" + str(numIncidents[n]))\n",
    "        \n",
    "def sort(nList):\n",
    "    global mostIncidents\n",
    "    global leastIncidents\n",
    "    \n",
    "    if (len(nList) < 2):\n",
    "        return nList\n",
    "    \n",
    "    p = nList[0]\n",
    "    \n",
    "    if (len(nList) < 3):\n",
    "        if (numIncidents[nList[0]] > numIncidents[nList[1]]):\n",
    "            t = nList[0]\n",
    "            nList[0] = nList[1]\n",
    "            nList[1] = t\n",
    "        return nList\n",
    "    else:\n",
    "        lessP = [i for i in nList[1:] if numIncidents[i] <= numIncidents[p]]\n",
    "        greaterP = [i for i in nList[1:] if numIncidents[i] > numIncidents[p]]\n",
    "        return sort(lessP) + [p] + sort(greaterP)\n",
    "                \n",
    "            \n"
   ]
  },
  {
   "cell_type": "code",
   "execution_count": 100,
   "metadata": {},
   "outputs": [
    {
     "name": "stdout",
     "output_type": "stream",
     "text": [
      "These neighborhoods had more than 150 incidents:\n",
      "\n",
      "   Central Business District: 198\n",
      "\n",
      "\n",
      "These neighborhoods had less than 25 incidents:\n",
      "\n",
      "   Ridgemont: 1\n",
      "   East Carnegie: 1\n",
      "   Outside County: 2\n",
      "   Summer Hill: 2\n",
      "   Chartiers City: 2\n",
      "   Regent Square: 2\n",
      "   Glen Hazel: 3\n",
      "   Mt. Oliver Boro: 3\n",
      "   Esplen: 4\n",
      "   Hays: 4\n",
      "   Mount Oliver: 5\n",
      "   Arlington Heights: 6\n",
      "   Spring Garden: 7\n",
      "   Swisshelm Park: 8\n",
      "   Fairywood: 8\n",
      "   Outside City: 8\n",
      "   Friendship: 8\n",
      "   Allegheny West: 9\n",
      "   Oakwood: 9\n",
      "   Windgap: 9\n",
      "   Fineview: 10\n",
      "   Outside State: 10\n",
      "   West End: 11\n",
      "   Banksville: 11\n",
      "   Beltzhoover: 13\n",
      "   Upper Lawrenceville: 14\n",
      "   Morningside: 14\n",
      "   Polish Hill: 14\n",
      "   Terrace Village: 14\n",
      "   Spring Hill-City View: 14\n",
      "   Manchester: 15\n",
      "   California-Kirkbride: 15\n",
      "   Duquesne Heights: 15\n",
      "   South Shore: 16\n",
      "   Upper Hill: 16\n",
      "   South Oakland: 16\n",
      "   Arlington: 17\n",
      "   Point Breeze North: 17\n",
      "   Homewood West: 17\n",
      "   Lower Lawrenceville: 17\n",
      "   Westwood: 17\n",
      "   Lincoln Place: 17\n",
      "   Troy Hill: 17\n",
      "   Bon Air: 18\n",
      "   Point Breeze: 19\n",
      "   West Oakland: 19\n",
      "   Stanton Heights: 21\n",
      "   Elliott: 21\n",
      "   Northview Heights: 22\n",
      "   Overbrook: 24\n",
      "   nan: 25\n",
      "   Central North Side: 25\n"
     ]
    }
   ],
   "source": [
    "findNeighborhoods(25, 150)\n",
    "printExtremes()"
   ]
  },
  {
   "cell_type": "markdown",
   "metadata": {},
   "source": [
    "## Preliminary Conclusion"
   ]
  },
  {
   "cell_type": "markdown",
   "metadata": {},
   "source": [
    "If only considering the number of crime incidents reported from each neighborhood, East Carnegie and Ridgemont should be considered the 'best' neighborhoods by this metric.\n",
    "\n"
   ]
  }
 ],
 "metadata": {
  "kernelspec": {
   "display_name": "Python 3",
   "language": "python",
   "name": "python3"
  },
  "language_info": {
   "codemirror_mode": {
    "name": "ipython",
    "version": 3
   },
   "file_extension": ".py",
   "mimetype": "text/x-python",
   "name": "python",
   "nbconvert_exporter": "python",
   "pygments_lexer": "ipython3",
   "version": "3.8.3"
  }
 },
 "nbformat": 4,
 "nbformat_minor": 4
}
