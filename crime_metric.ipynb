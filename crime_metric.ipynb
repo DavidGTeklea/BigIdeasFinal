{
 "cells": [
  {
   "cell_type": "markdown",
   "metadata": {},
   "source": [
    "# Finding the Best Neighborhood Based on Crime Data"
   ]
  },
  {
   "cell_type": "code",
   "execution_count": 24,
   "metadata": {},
   "outputs": [],
   "source": [
    "import pandas as pd\n",
    "import math"
   ]
  },
  {
   "cell_type": "code",
   "execution_count": 16,
   "metadata": {},
   "outputs": [],
   "source": [
    "crime = pd.read_csv(\"crime.csv\")"
   ]
  },
  {
   "cell_type": "code",
   "execution_count": 113,
   "metadata": {},
   "outputs": [
    {
     "name": "stdout",
     "output_type": "stream",
     "text": [
      "PK\n",
      "CCR\n",
      "HIERARCHY\n",
      "INCIDENTTIME\n",
      "INCIDENTLOCATION\n",
      "CLEAREDFLAG\n",
      "INCIDENTNEIGHBORHOOD\n",
      "INCIDENTZONE\n",
      "INCIDENTHIERARCHYDESC\n",
      "OFFENSES\n",
      "INCIDENTTRACT\n",
      "COUNCIL_DISTRICT\n",
      "PUBLIC_WORKS_DIVISION\n",
      "X\n",
      "Y\n"
     ]
    }
   ],
   "source": [
    "for i in crime.columns:\n",
    "    print(i)"
   ]
  },
  {
   "cell_type": "markdown",
   "metadata": {},
   "source": [
    "## Finding the Neighborhoods With Low/High Occurrences"
   ]
  },
  {
   "cell_type": "code",
   "execution_count": 18,
   "metadata": {},
   "outputs": [],
   "source": [
    "## Create a dict of counters for every neighborhood\n",
    "numIncidents = {}"
   ]
  },
  {
   "cell_type": "code",
   "execution_count": 19,
   "metadata": {},
   "outputs": [],
   "source": [
    "# Iterate through the data table, incrementing counts for neighborhoods and\n",
    "## creating entries for neighborhoods if they do not already exist in the dict.\n",
    "for i in crime.index:\n",
    "    if crime[\"INCIDENTNEIGHBORHOOD\"][i] in numIncidents.keys():\n",
    "        numIncidents[crime[\"INCIDENTNEIGHBORHOOD\"][i]] += 1\n",
    "    else:\n",
    "        numIncidents[crime[\"INCIDENTNEIGHBORHOOD\"][i]] = 1"
   ]
  },
  {
   "cell_type": "code",
   "execution_count": 103,
   "metadata": {},
   "outputs": [],
   "source": [
    "# Hold values for all neighborhoods that have crime numbers lower than the threshold\n",
    "mostIncidents = []\n",
    "mostThreshold = 0\n",
    "\n",
    "leastIncidents = []\n",
    "leastThreshold = math.inf\n",
    "\n",
    "# Function to update the above variables based on given low/high thresholds\n",
    "# The expected ranges of low_threshold and high_threshold are 1-198 (already known lowest/highest values)\n",
    "def findNeighborhoods(lessThan, greaterThan):\n",
    "    global mostIncidents\n",
    "    global mostThreshold\n",
    "    global leastIncidents\n",
    "    global leastThreshold\n",
    "\n",
    "    highers = []\n",
    "    lowers = []\n",
    "    \n",
    "    for n in numIncidents.keys():\n",
    "        if numIncidents[n] >= greaterThan:\n",
    "            highers.append(n)\n",
    "        if numIncidents[n] <= lessThan:\n",
    "            lowers.append(n)\n",
    "            \n",
    "    mostIncidents = sort(highers)\n",
    "    mostThreshold = greaterThan\n",
    "    \n",
    "    leastIncidents = sort(lowers)\n",
    "    leastThreshold = lessThan\n",
    "\n",
    "# Print neighborhoods found above and list their specific number of incidents.\n",
    "def printExtremes():\n",
    "    print(\"These neighborhoods had more than \" + str(mostThreshold) + \" incidents in the past 30 days (3/14/2022 - 4/13/2022):\\n\")\n",
    "    for n in mostIncidents:\n",
    "        print(\"   \" + str(n) + \": \" + str(numIncidents[n]))\n",
    "\n",
    "    print(\"\\n\")\n",
    "\n",
    "    print(\"These neighborhoods had less than \" + str(leastThreshold) + \" incidents in the past 30 days (3/14/2022 - 4/13/2022):\\n\")\n",
    "    for n in leastIncidents:\n",
    "        print(\"   \" + str(n) + \": \" + str(numIncidents[n]))\n",
    "        \n",
    "def sort(nList):\n",
    "    global mostIncidents\n",
    "    global leastIncidents\n",
    "    \n",
    "    if (len(nList) < 2):\n",
    "        return nList\n",
    "    \n",
    "    p = nList[0]\n",
    "    \n",
    "    if (len(nList) < 3):\n",
    "        if (numIncidents[nList[0]] > numIncidents[nList[1]]):\n",
    "            t = nList[0]\n",
    "            nList[0] = nList[1]\n",
    "            nList[1] = t\n",
    "        return nList\n",
    "    else:\n",
    "        lessP = [i for i in nList[1:] if numIncidents[i] <= numIncidents[p]]\n",
    "        greaterP = [i for i in nList[1:] if numIncidents[i] > numIncidents[p]]\n",
    "        return sort(lessP) + [p] + sort(greaterP)\n",
    "                \n",
    "            \n"
   ]
  },
  {
   "cell_type": "code",
   "execution_count": 105,
   "metadata": {},
   "outputs": [
    {
     "name": "stdout",
     "output_type": "stream",
     "text": [
      "These neighborhoods had more than 125 incidents in the past 30 days (3/14/2022 - 4/13/2022):\n",
      "\n",
      "   South Side Flats: 127\n",
      "   Carrick: 129\n",
      "   Central Business District: 198\n",
      "\n",
      "\n",
      "These neighborhoods had less than 25 incidents in the past 30 days (3/14/2022 - 4/13/2022):\n",
      "\n",
      "   Ridgemont: 1\n",
      "   East Carnegie: 1\n",
      "   Outside County: 2\n",
      "   Summer Hill: 2\n",
      "   Chartiers City: 2\n",
      "   Regent Square: 2\n",
      "   Glen Hazel: 3\n",
      "   Mt. Oliver Boro: 3\n",
      "   Esplen: 4\n",
      "   Hays: 4\n",
      "   Mount Oliver: 5\n",
      "   Arlington Heights: 6\n",
      "   Spring Garden: 7\n",
      "   Swisshelm Park: 8\n",
      "   Fairywood: 8\n",
      "   Outside City: 8\n",
      "   Friendship: 8\n",
      "   Allegheny West: 9\n",
      "   Oakwood: 9\n",
      "   Windgap: 9\n",
      "   Fineview: 10\n",
      "   Outside State: 10\n",
      "   West End: 11\n",
      "   Banksville: 11\n",
      "   Beltzhoover: 13\n",
      "   Upper Lawrenceville: 14\n",
      "   Morningside: 14\n",
      "   Polish Hill: 14\n",
      "   Terrace Village: 14\n",
      "   Spring Hill-City View: 14\n",
      "   Manchester: 15\n",
      "   California-Kirkbride: 15\n",
      "   Duquesne Heights: 15\n",
      "   South Shore: 16\n",
      "   Upper Hill: 16\n",
      "   South Oakland: 16\n",
      "   Arlington: 17\n",
      "   Point Breeze North: 17\n",
      "   Homewood West: 17\n",
      "   Lower Lawrenceville: 17\n",
      "   Westwood: 17\n",
      "   Lincoln Place: 17\n",
      "   Troy Hill: 17\n",
      "   Bon Air: 18\n",
      "   Point Breeze: 19\n",
      "   West Oakland: 19\n",
      "   Stanton Heights: 21\n",
      "   Elliott: 21\n",
      "   Northview Heights: 22\n",
      "   Overbrook: 24\n",
      "   nan: 25\n",
      "   Central North Side: 25\n"
     ]
    }
   ],
   "source": [
    "findNeighborhoods(25, 125)\n",
    "printExtremes()"
   ]
  },
  {
   "cell_type": "markdown",
   "metadata": {},
   "source": [
    "## Interpreting With Population Data"
   ]
  },
  {
   "cell_type": "code",
   "execution_count": 106,
   "metadata": {},
   "outputs": [],
   "source": [
    "pp = pd.read_csv(\"population.csv\")"
   ]
  },
  {
   "cell_type": "code",
   "execution_count": 115,
   "metadata": {},
   "outputs": [
    {
     "name": "stdout",
     "output_type": "stream",
     "text": [
      "Neighborhood\n",
      "Id\n",
      "Estimate; Total\n",
      "Margin of Error; Total\n"
     ]
    }
   ],
   "source": [
    "for i in pp.columns:\n",
    "    print(i)"
   ]
  },
  {
   "cell_type": "code",
   "execution_count": 116,
   "metadata": {},
   "outputs": [],
   "source": [
    "populations = {}\n",
    "for i in pp.index:\n",
    "    populations[pp[\"Neighborhood\"][i]] = pp[\"Estimate; Total\"][i]"
   ]
  },
  {
   "cell_type": "code",
   "execution_count": 129,
   "metadata": {},
   "outputs": [
    {
     "name": "stdout",
     "output_type": "stream",
     "text": [
      "598.0\n"
     ]
    }
   ],
   "source": [
    "print(populations[\"Mt. Oliver\"])"
   ]
  },
  {
   "cell_type": "code",
   "execution_count": 155,
   "metadata": {},
   "outputs": [
    {
     "name": "stdout",
     "output_type": "stream",
     "text": [
      "Central Northside\n",
      "Mt. Oliver\n",
      "Arlington\n",
      "Banksville\n",
      "Beechview\n",
      "Beltzhoover\n",
      "Bloomfield\n",
      "Bluff\n",
      "Brighton Heights\n",
      "Brookline\n",
      "Carrick\n",
      "Central Lawrenceville\n",
      "Central Oakland\n",
      "Chartiers City\n",
      "Crafton Heights\n",
      "Duquesne Heights\n",
      "East Carnegie\n",
      "Elliott\n",
      "Fairywood\n",
      "Fineview\n",
      "Friendship\n",
      "Garfield\n",
      "Glen Hazel\n",
      "Greenfield\n",
      "Hays\n",
      "Hazelwood\n",
      "Highland Park\n",
      "Lincoln Place\n",
      "Lincoln-Lemington-Belmar\n",
      "Lower Lawrenceville\n",
      "Manchester\n",
      "Marshall-Shadeland\n",
      "Morningside\n",
      "Mount Washington\n",
      "North Oakland\n",
      "Oakwood\n",
      "Overbrook\n",
      "Perry North\n",
      "Point Breeze\n",
      "Point Breeze North\n",
      "Polish Hill\n",
      "Regent Square\n",
      "Ridgemont\n",
      "Shadyside\n",
      "Sheraden\n",
      "South Oakland\n",
      "South Side Slopes\n",
      "Spring Garden\n",
      "Spring Hill-City View\n",
      "Squirrel Hill North\n",
      "Squirrel Hill South\n",
      "Stanton Heights\n",
      "Summer Hill\n",
      "Swisshelm Park\n",
      "Terrace Village\n",
      "Troy Hill\n",
      "Upper Hill\n",
      "Upper Lawrenceville\n",
      "West Oakland\n",
      "Westwood\n",
      "Windgap\n",
      "61\n"
     ]
    }
   ],
   "source": [
    "populationCrimeRatios = {}\n",
    "\n",
    "populationCrimeRatios[\"Central Northside\"] = 2892.0 / numIncidents[\"Central North Side\"]\n",
    "populationCrimeRatios[\"Mt. Oliver\"] = 3399.0 / numIncidents[\"Mount Oliver\"]\n",
    "for n in populations.keys():\n",
    "    if n != \"Central Northside\" and n != \"Mt. Oliver\":\n",
    "        if (n in numIncidents.keys()):\n",
    "            if numIncidents[n] != 0:\n",
    "                populationCrimeRatios[n] = populations[n] / numIncidents[n]\n",
    "            else:\n",
    "                populationCrimeRatios[n] = 0\n",
    "        else:\n",
    "            numIncidents[n] = 0\n",
    "            \n",
    "def findProportions(greaterThan):\n",
    "    highers = []\n",
    "    for n in populationCrimeRatios.keys():\n",
    "        if populationCrimeRatios[n] >= greaterThan:\n",
    "            highers.append(n)\n",
    "    return highers\n",
    "\n",
    "n = 0\n",
    "for i in findProportions(78):\n",
    "    print(i)\n",
    "    n += 1\n",
    "print(n)"
   ]
  },
  {
   "cell_type": "code",
   "execution_count": 149,
   "metadata": {},
   "outputs": [
    {
     "name": "stdout",
     "output_type": "stream",
     "text": [
      "78.46511627906976\n"
     ]
    }
   ],
   "source": [
    "print(populationCrimeRatios[\"Carrick\"])"
   ]
  },
  {
   "cell_type": "code",
   "execution_count": 151,
   "metadata": {},
   "outputs": [
    {
     "data": {
      "text/plain": [
       "Neighborhood              91\n",
       "Id                        91\n",
       "Estimate; Total           91\n",
       "Margin of Error; Total    91\n",
       "dtype: int64"
      ]
     },
     "execution_count": 151,
     "metadata": {},
     "output_type": "execute_result"
    }
   ],
   "source": [
    "pp.count()"
   ]
  },
  {
   "cell_type": "markdown",
   "metadata": {},
   "source": [
    "#### This makes Carrick approximately 67th percentile for population-crime ratio."
   ]
  },
  {
   "cell_type": "markdown",
   "metadata": {},
   "source": [
    "Given that Carrick is at a reasonable rank for its crime-population ratio, Carrick is supported as the potential best neighborhood based on this metric as well as the education metric."
   ]
  },
  {
   "cell_type": "code",
   "execution_count": null,
   "metadata": {},
   "outputs": [],
   "source": []
  }
 ],
 "metadata": {
  "kernelspec": {
   "display_name": "Python 3",
   "language": "python",
   "name": "python3"
  },
  "language_info": {
   "codemirror_mode": {
    "name": "ipython",
    "version": 3
   },
   "file_extension": ".py",
   "mimetype": "text/x-python",
   "name": "python",
   "nbconvert_exporter": "python",
   "pygments_lexer": "ipython3",
   "version": "3.8.3"
  }
 },
 "nbformat": 4,
 "nbformat_minor": 4
}
