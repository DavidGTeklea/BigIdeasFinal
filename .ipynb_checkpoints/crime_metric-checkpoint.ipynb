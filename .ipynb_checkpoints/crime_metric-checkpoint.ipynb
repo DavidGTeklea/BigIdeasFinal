{
 "cells": [
  {
   "cell_type": "markdown",
   "metadata": {},
   "source": [
    "# Finding the Best Neighborhood Based on Crime Data"
   ]
  },
  {
   "cell_type": "code",
   "execution_count": 15,
   "metadata": {},
   "outputs": [],
   "source": [
    "import pandas as pd"
   ]
  },
  {
   "cell_type": "code",
   "execution_count": 16,
   "metadata": {},
   "outputs": [],
   "source": [
    "crime = pd.read_csv(\"crime.csv\")"
   ]
  },
  {
   "cell_type": "code",
   "execution_count": 17,
   "metadata": {},
   "outputs": [
    {
     "name": "stdout",
     "output_type": "stream",
     "text": [
      "PK\n",
      "CCR\n",
      "HIERARCHY\n",
      "INCIDENTTIME\n",
      "INCIDENTLOCATION\n",
      "CLEAREDFLAG\n",
      "INCIDENTNEIGHBORHOOD\n",
      "INCIDENTZONE\n",
      "INCIDENTHIERARCHYDESC\n",
      "OFFENSES\n",
      "INCIDENTTRACT\n",
      "COUNCIL_DISTRICT\n",
      "PUBLIC_WORKS_DIVISION\n",
      "X\n",
      "Y\n"
     ]
    }
   ],
   "source": [
    "for (i) in crime:\n",
    "    print(i)"
   ]
  },
  {
   "cell_type": "markdown",
   "metadata": {},
   "source": [
    "## Finding the neighborhood with the most number of incidents"
   ]
  },
  {
   "cell_type": "code",
   "execution_count": 18,
   "metadata": {},
   "outputs": [],
   "source": [
    "## Create a dict of counters for every neighborhood\n",
    "numIncidents = {}"
   ]
  },
  {
   "cell_type": "code",
   "execution_count": 19,
   "metadata": {},
   "outputs": [],
   "source": [
    "# Iterate through the data table, incrementing counts for neighborhoods and\n",
    "## creating entries for neighborhoods if they do not already exist in the dict.\n",
    "for i in crime.index:\n",
    "    if crime[\"INCIDENTNEIGHBORHOOD\"][i] in numIncidents.keys():\n",
    "        numIncidents[crime[\"INCIDENTNEIGHBORHOOD\"][i]] += 1\n",
    "    else:\n",
    "        numIncidents[crime[\"INCIDENTNEIGHBORHOOD\"][i]] = 1"
   ]
  },
  {
   "cell_type": "code",
   "execution_count": 20,
   "metadata": {},
   "outputs": [
    {
     "name": "stdout",
     "output_type": "stream",
     "text": [
      "Central Business District has the most incidents of crime: 198\n"
     ]
    }
   ],
   "source": [
    "# Find which neighborhood in the dict has been incremented the most\n",
    "currentHigh = 0\n",
    "currentHighest = \"\"\n",
    "\n",
    "for n in numIncidents.keys():\n",
    "    if numIncidents[n] > currentHigh:\n",
    "        currentHigh = numIncidents[n]\n",
    "        currentHighest = n\n",
    "print(currentHighest + \" has the most incidents of crime: \" + str(currentHigh))"
   ]
  },
  {
   "cell_type": "markdown",
   "metadata": {},
   "source": [
    "## Most common type of crime"
   ]
  },
  {
   "cell_type": "code",
   "execution_count": null,
   "metadata": {},
   "outputs": [],
   "source": []
  }
 ],
 "metadata": {
  "kernelspec": {
   "display_name": "Python 3",
   "language": "python",
   "name": "python3"
  },
  "language_info": {
   "codemirror_mode": {
    "name": "ipython",
    "version": 3
   },
   "file_extension": ".py",
   "mimetype": "text/x-python",
   "name": "python",
   "nbconvert_exporter": "python",
   "pygments_lexer": "ipython3",
   "version": "3.8.3"
  }
 },
 "nbformat": 4,
 "nbformat_minor": 4
}
